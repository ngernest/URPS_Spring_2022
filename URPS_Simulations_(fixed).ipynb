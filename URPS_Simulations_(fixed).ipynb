{
  "nbformat": 4,
  "nbformat_minor": 0,
  "metadata": {
    "colab": {
      "name": "URPS Simulations (fixed).ipynb",
      "provenance": [],
      "collapsed_sections": [],
      "authorship_tag": "ABX9TyMFjL0FEgUTCWcDU6Y1zlTn",
      "include_colab_link": true
    },
    "kernelspec": {
      "name": "python3",
      "display_name": "Python 3"
    },
    "language_info": {
      "name": "python"
    }
  },
  "cells": [
    {
      "cell_type": "markdown",
      "metadata": {
        "id": "view-in-github",
        "colab_type": "text"
      },
      "source": [
        "<a href=\"https://colab.research.google.com/github/ngernest/URPS_Spring_2022/blob/main/URPS_Simulations_(fixed).ipynb\" target=\"_parent\"><img src=\"https://colab.research.google.com/assets/colab-badge.svg\" alt=\"Open In Colab\"/></a>"
      ]
    },
    {
      "cell_type": "markdown",
      "source": [
        "## Software installation code"
      ],
      "metadata": {
        "id": "y6E1YqNsKolW"
      }
    },
    {
      "cell_type": "code",
      "source": [
        "# Install Pygraphon package for working with graphons from github\n",
        "# !pip install git+https://github.com/dicai/pygraphon.git\n",
        "# !git clone https://github.com/dicai/pygraphon.git\n",
        "# !python2.7 /content/pygraphon/setup.py install"
      ],
      "metadata": {
        "id": "8qdKYacqKTS8"
      },
      "execution_count": null,
      "outputs": []
    },
    {
      "cell_type": "code",
      "source": [
        "# Install Python 3.9\n",
        "!sudo apt-get update -y\n",
        "!sudo apt-get install python3.9\n",
        "\n",
        "#change alternatives\n",
        "!sudo update-alternatives --install /usr/bin/python3 python3 /usr/bin/python3.7 1\n",
        "!sudo update-alternatives --install /usr/bin/python3 python3 /usr/bin/python3.9 2\n",
        "\n",
        "#check python version\n",
        "!python --version\n",
        "#3.9.6"
      ],
      "metadata": {
        "id": "S1m4lB0pv7o6"
      },
      "execution_count": null,
      "outputs": []
    },
    {
      "cell_type": "code",
      "source": [
        "!sudo apt install python3-pip"
      ],
      "metadata": {
        "id": "uVMP4hAKwJNc"
      },
      "execution_count": null,
      "outputs": []
    },
    {
      "cell_type": "code",
      "source": [
        "!sudo apt install python3.9-distutils"
      ],
      "metadata": {
        "id": "7I6G7swVwVKM"
      },
      "execution_count": null,
      "outputs": []
    },
    {
      "cell_type": "code",
      "source": [
        "!python3 -m pip install --upgrade pip"
      ],
      "metadata": {
        "colab": {
          "base_uri": "https://localhost:8080/"
        },
        "id": "4gHgXmzswb6v",
        "outputId": "449e7bf1-8024-446b-c944-809388cd4f9e"
      },
      "execution_count": 24,
      "outputs": [
        {
          "output_type": "stream",
          "name": "stdout",
          "text": [
            "Requirement already satisfied: pip in /usr/local/lib/python3.9/dist-packages (22.0.4)\n",
            "\u001b[33mWARNING: Running pip as the 'root' user can result in broken permissions and conflicting behaviour with the system package manager. It is recommended to use a virtual environment instead: https://pip.pypa.io/warnings/venv\u001b[0m\u001b[33m\n",
            "\u001b[0m"
          ]
        }
      ]
    },
    {
      "cell_type": "code",
      "source": [
        "# Import library for representing continuous ranges in Python\n",
        "!pip3 install python-ranges"
      ],
      "metadata": {
        "colab": {
          "base_uri": "https://localhost:8080/"
        },
        "id": "28x4FtWQvMa4",
        "outputId": "e06d83a7-f142-4d12-ac8c-65a8a3ab92a6"
      },
      "execution_count": 21,
      "outputs": [
        {
          "output_type": "stream",
          "name": "stdout",
          "text": [
            "Collecting python-ranges\n",
            "  Downloading python_ranges-1.2.0-py3-none-any.whl (55 kB)\n",
            "\u001b[2K     \u001b[90m━━━━━━━━━━━━━━━━━━━━━━━━━━━━━━━━━━━━━━━━\u001b[0m \u001b[32m55.2/55.2 KB\u001b[0m \u001b[31m5.4 MB/s\u001b[0m eta \u001b[36m0:00:00\u001b[0m\n",
            "\u001b[?25hInstalling collected packages: python-ranges\n",
            "Successfully installed python-ranges-1.2.0\n",
            "\u001b[33mWARNING: Running pip as the 'root' user can result in broken permissions and conflicting behaviour with the system package manager. It is recommended to use a virtual environment instead: https://pip.pypa.io/warnings/venv\u001b[0m\u001b[33m\n",
            "\u001b[0m"
          ]
        }
      ]
    },
    {
      "cell_type": "code",
      "execution_count": 43,
      "metadata": {
        "id": "YT5CBVRcUZaV"
      },
      "outputs": [],
      "source": [
        "import numpy as np\n",
        "import networkx as nx\n",
        "from collections import defaultdict\n",
        "import matplotlib.pyplot as plt\n",
        "import seaborn as sns\n",
        "import typing"
      ]
    },
    {
      "cell_type": "markdown",
      "source": [
        "## Simulation code"
      ],
      "metadata": {
        "id": "Mg7nMxutKrg4"
      }
    },
    {
      "cell_type": "code",
      "source": [
        "# Helper function for checking if a matrix is symmetric\n",
        "# https://stackoverflow.com/questions/42908334/checking-if-a-matrix-is-symmetric-in-numpy\n",
        "def check_symmetric(a, rtol=1e-08, atol=1e-08):\n",
        "    return np.allclose(a, a.T, rtol=rtol, atol=atol)"
      ],
      "metadata": {
        "id": "WwX8fUaPY-xi"
      },
      "execution_count": null,
      "outputs": []
    },
    {
      "cell_type": "code",
      "source": [
        "# Code for generating symmetric adjacency matrices for random graphs inspired by:\n",
        "# https://stackoverflow.com/questions/10806790/generating-symmetric-matrices-in-numpy\n",
        "\n",
        "\n",
        "def simulate_graphon(n, r, num_iterations, W, graphon_name, has_constant_clique_count = False):\n",
        "  clique_counts = defaultdict(int)\n",
        "\n",
        "  for i in range(num_iterations):\n",
        "    # Types U_1, ..., U_n\n",
        "    U = np.random.uniform(low=0, high=1, size=n)\n",
        "\n",
        "    prob_matrix = np.array(\n",
        "        [np.array([W(U[i], U[j]) for j in range(n)]) for i in range(n)]\n",
        "    )\n",
        "\n",
        "    # Populate lower diagonal entries of adjacency matrix according to edge probabilties\n",
        "    adj = np.zeros((n, n))\n",
        "    for i in range(n):\n",
        "      for j in range(i):\n",
        "        adj[i, j] = np.random.binomial(1, prob_matrix[i, j])\n",
        "\n",
        "    # Make adjacency matrix symmetric\n",
        "    adj = np.tril(adj) + np.tril(adj, 1).T\n",
        "\n",
        "    G = nx.from_numpy_matrix(adj)\n",
        "    \n",
        "    # NB: change to nx.find_cliques(G) for faster performance\n",
        "    # NB: use nx.enumerate_all_cliques(G) for more accurate clique_counts\n",
        "\n",
        "    if has_constant_clique_count:\n",
        "      num_r_cliques = len([clique for clique in nx.enumerate_all_cliques(G) if len(clique) == r])\n",
        "    else:\n",
        "      num_r_cliques = len([clique for clique in nx.find_cliques(G) if len(clique) == r])\n",
        "\n",
        "    clique_counts[num_r_cliques] += 1\n",
        "\n",
        "  # Compute frequencies\n",
        "  clique_frequencies = np.array(list(clique_counts.values())) / num_iterations\n",
        "\n",
        "\n",
        "  # sns.displot(x=clique_counts.keys(), y = clique_frequencies, kde=True)\n",
        "\n",
        "  plt.bar(list(clique_counts.keys()), clique_frequencies, color='g')\n",
        "  if has_constant_clique_count:\n",
        "    plt.xticks(list(clique_counts.keys()))\n",
        "  plt.xlabel(\"No. of $r$-cliques\")\n",
        "  plt.ylabel(\"Frequency\")\n",
        "  plt.title(f\"Distribution of No. of {r}-cliques for {graphon_name}\")\n",
        "  plt.savefig(f\"{graphon_name}, n = {n}, r = {r}.png\", bbox_inches='tight', dpi=144)\n"
      ],
      "metadata": {
        "id": "FuTgftV_bMgi"
      },
      "execution_count": 45,
      "outputs": []
    },
    {
      "cell_type": "markdown",
      "source": [
        "### Simulations for the graphon $W(x, y) = xy$"
      ],
      "metadata": {
        "id": "nCdQfCH6Da6q"
      }
    },
    {
      "cell_type": "code",
      "source": [
        "n = 100\n",
        "r = 3\n",
        "num_iterations = 1000\n",
        "W = lambda x, y: x * y\n",
        "simulate_graphon(n, r, num_iterations, W, \"W(x, y) = xy\", False)"
      ],
      "metadata": {
        "id": "NaW-WOP4Jm7C",
        "colab": {
          "base_uri": "https://localhost:8080/",
          "height": 299
        },
        "outputId": "7eb6e130-08fe-48bd-e628-727118507ee0"
      },
      "execution_count": 46,
      "outputs": [
        {
          "output_type": "display_data",
          "data": {
            "text/plain": [
              "<Figure size 432x288 with 1 Axes>"
            ],
            "image/png": "[encoded data removed]"
          },
          "metadata": {
            "needs_background": "light"
          }
        }
      ]
    },
    {
      "cell_type": "markdown",
      "source": [
        "### Constant graphons"
      ],
      "metadata": {
        "id": "o62bhXi59OJy"
      }
    },
    {
      "cell_type": "code",
      "source": [
        "n = 5\n",
        "r = 3\n",
        "num_iterations = 1000\n",
        "W = lambda x, y: 1\n",
        "simulate_graphon(n, r, num_iterations, W, \"$W(x, y) = 1$\", True)"
      ],
      "metadata": {
        "id": "NdxaUQbcMH2B"
      },
      "execution_count": null,
      "outputs": []
    },
    {
      "cell_type": "code",
      "source": [
        "n = 5\n",
        "r = 3\n",
        "num_iterations = 1000\n",
        "W = lambda x, y: 1 if x != y else 0\n",
        "simulate_graphon(n, r, num_iterations, W, \"$W(x, y) = 1$ if $x$ ≠ $y$ else $0$\", True)"
      ],
      "metadata": {
        "id": "jce-gfFAOMrR"
      },
      "execution_count": null,
      "outputs": []
    },
    {
      "cell_type": "markdown",
      "source": [
        "### Experimenting with example from p.9 of Hladky et al."
      ],
      "metadata": {
        "id": "J1GTysU_bc64"
      }
    },
    {
      "cell_type": "code",
      "source": [
        "n = 50\n",
        "r = 3\n",
        "interval_bounds = np.linspace(0, 1, num=7)\n",
        "def block_graphon(x, y):\n",
        "  if interval_bounds[0] <= x <= interval_bounds[1]:\n",
        "    if interval_bounds[1] <= y <= interval_bounds[2] or interval_bounds[2] <= y <= interval_bounds[3]:\n",
        "      return 1\n",
        "    elif interval_bounds[3] <= y <= interval_bounds[4]:\n",
        "      return 0.2\n",
        "    else:\n",
        "      return 0\n",
        "  elif interval_bounds[1] <= x <= interval_bounds[2]:\n",
        "    if interval_bounds[0] <= y <= interval_bounds[1] or interval_bounds[2] <= y <= interval_bounds[3]:\n",
        "      return 1\n",
        "    else:\n",
        "      return 0\n",
        "  elif interval_bounds[2] <= x <= interval_bounds[3]:\n",
        "    if interval_bounds[0] <= y <= interval_bounds[1] or interval_bounds[1] <= y <= interval_bounds[2]:\n",
        "      return 1\n",
        "    else:\n",
        "      return 0\n",
        "  elif interval_bounds[3] <= x <= interval_bounds[4]:\n",
        "    if interval_bounds[4] <= y <= interval_bounds[5] or interval_bounds[5] <= y <= interval_bounds[6]:\n",
        "      return 1\n",
        "    elif interval_bounds[0] <= y <= interval_bounds[1]:\n",
        "      return 0.2\n",
        "    else:\n",
        "      return 0\n",
        "  elif interval_bounds[4] <= x <= interval_bounds[5]:\n",
        "    if interval_bounds[3] <= y <= interval_bounds[4] or interval_bounds[5] <= y <= interval_bounds[6]:\n",
        "      return 1\n",
        "    else:\n",
        "      return 0\n",
        "  elif interval_bounds[5] <= x <= interval_bounds[6]:\n",
        "    if interval_bounds[3] <= y <= interval_bounds[4] or interval_bounds[4] <= y <= interval_bounds[5]:\n",
        "      return 1\n",
        "    else:\n",
        "      return 0\n",
        "\n",
        "\n",
        "simulate_graphon(n, r, 1000, block_graphon, \"$K_3$-regular graphon\", has_constant_clique_count = False)"
      ],
      "metadata": {
        "id": "4azdqX0RbfWV"
      },
      "execution_count": null,
      "outputs": []
    },
    {
      "cell_type": "markdown",
      "source": [
        "## Discarded simulations below:"
      ],
      "metadata": {
        "id": "i3nUxbuiKMIP"
      }
    },
    {
      "cell_type": "code",
      "source": [
        "\n",
        "# Plot the distribution of \n",
        "# using Kernel Density Estimation\n",
        "# sns.set_style('whitegrid')\n",
        "# ax = sns.kdeplot(clique_counts.values(), bw=0.5)"
      ],
      "metadata": {
        "id": "C0LNSylJRcN1"
      },
      "execution_count": null,
      "outputs": []
    },
    {
      "cell_type": "code",
      "source": [
        "n = 5\n",
        "r = 3\n",
        "W = lambda x, y: 1\n",
        "U = np.random.uniform(low=0, high=1, size=n)\n",
        "prob_matrix = np.array(\n",
        "    [np.array([W(U[i], U[j]) for j in range(n)]) for i in range(n)]\n",
        ")\n",
        "\n",
        "# Populate lower diagonal entries of adjacency matrix according to edge probabilties\n",
        "adj = np.zeros((n, n))\n",
        "for i in range(n):\n",
        "  for j in range(i):\n",
        "    adj[i, j] = np.random.binomial(1, prob_matrix[i, j])\n",
        "\n",
        "# Make adjacency matrix symmetric\n",
        "adj = np.tril(adj) + np.tril(adj, 1).T\n",
        "\n",
        "G = nx.from_numpy_matrix(adj)\n",
        "nx.draw(G)\n",
        "\n",
        "clique_counts = defaultdict(int)\n",
        "num_r_cliques = len([clique for clique in nx.enumerate_all_cliques(G) if len(clique) == r])"
      ],
      "metadata": {
        "colab": {
          "base_uri": "https://localhost:8080/",
          "height": 336
        },
        "id": "4ztUKvQNNj0b",
        "outputId": "d3059c00-b758-4e08-f244-cb8d08c4aa70"
      },
      "execution_count": null,
      "outputs": [
        {
          "output_type": "execute_result",
          "data": {
            "text/plain": [
              "defaultdict(int, {10: 1})"
            ]
          },
          "metadata": {},
          "execution_count": 54
        },
        {
          "output_type": "display_data",
          "data": {
            "text/plain": [
              "<Figure size 432x288 with 1 Axes>"
            ],
            "image/png": "[encoded data removed]"
          },
          "metadata": {}
        }
      ]
    },
    {
      "cell_type": "code",
      "source": [
        "# Code for generating symmetric adjacency matrices for random graphs inspired by:\n",
        "# https://stackoverflow.com/questions/10806790/generating-symmetric-matrices-in-numpy\n",
        "\n",
        "\n",
        "n = 50\n",
        "r = 3\n",
        "num_iterations = 1000\n",
        "\n",
        "W = lambda x, y: ((1-x) + (1-y)) / 2\n",
        "num_cliques = defaultdict(int)\n",
        "\n",
        "clique_counts = defaultdict(int)\n",
        "\n",
        "for i in range(num_iterations):\n",
        "  # Types U_1, ..., U_n\n",
        "  U = np.random.uniform(low=0, high=1, size=n)\n",
        "\n",
        "  prob_matrix = np.array(\n",
        "      [np.array([W(U[i], U[j]) for j in range(n)]) for i in range(n)]\n",
        "  )\n",
        "\n",
        "  # Populate lower diagonal entries of adjacency matrix according to edge probabilties\n",
        "  adj = np.zeros((n, n))\n",
        "  for i in range(n):\n",
        "    for j in range(i):\n",
        "      adj[i, j] = np.random.binomial(1, prob_matrix[i, j])\n",
        "\n",
        "  # Make adjacency matrix symmetric\n",
        "  adj = np.tril(adj) + np.tril(adj, 1).T\n",
        "\n",
        "  G = nx.from_numpy_matrix(adj)\n",
        "  \n",
        "  num_r_cliques = len([clique for clique in nx.find_cliques(G) if len(clique) == r])\n",
        "\n",
        "  clique_counts[num_r_cliques] += 1\n",
        "\n",
        "\n",
        "# Compute frequencies\n",
        "clique_frequencies = np.array(list(clique_counts.values())) / num_iterations\n",
        "\n",
        "plt.bar(list(clique_counts.keys()), clique_frequencies, color='g')\n",
        "plt.xlabel(\"No. of $r$-cliques\")\n",
        "plt.ylabel(\"Frequency\")\n",
        "plt.title(\"Distribution of No. of r-cliques\")\n",
        "plt.show()"
      ],
      "metadata": {
        "colab": {
          "base_uri": "https://localhost:8080/",
          "height": 298
        },
        "id": "g_F9YcC5UbSB",
        "outputId": "27626552-42a4-4fc6-8556-8a024ee7348c"
      },
      "execution_count": null,
      "outputs": [
        {
          "output_type": "display_data",
          "data": {
            "text/plain": [
              "<Figure size 432x288 with 1 Axes>"
            ],
            "image/png": "[encoded data removed]"
          },
          "metadata": {}
        }
      ]
    },
    {
      "cell_type": "code",
      "source": [
        "def SBM(p1=0.05, p2=0.5, q=0.4):\n",
        "    return lambda x, y: p1 if (x < q and y >= q) or (x >= q and y < q) else p2\n",
        "\n",
        "n = 5\n",
        "r = 3\n",
        "num_iterations = 1000\n",
        "W = SBM(p1 = 1, p2 = 0)\n",
        "simulate_graphon(n, r, num_iterations, W, \"SBM, p1 = 1, p2 = 0\")"
      ],
      "metadata": {
        "id": "qLKipvMMjJHK",
        "colab": {
          "base_uri": "https://localhost:8080/",
          "height": 302
        },
        "outputId": "235ff377-3607-414e-e987-d3ccb51cd235"
      },
      "execution_count": null,
      "outputs": [
        {
          "output_type": "display_data",
          "data": {
            "text/plain": [
              "<Figure size 432x288 with 1 Axes>"
            ],
            "image/png": "[encoded data removed]"
          },
          "metadata": {
            "needs_background": "light"
          }
        }
      ]
    },
    {
      "cell_type": "code",
      "source": [
        "# Code for generating symmetric adjacency matrices for random graphs inspired by:\n",
        "# https://stackoverflow.com/questions/10806790/generating-symmetric-matrices-in-numpy\n",
        "\n",
        "\n",
        "n = 50\n",
        "r = 3\n",
        "\n",
        "num_iterations = 1000\n",
        "\n",
        "W = SBM()\n",
        "num_cliques = defaultdict(int)\n",
        "\n",
        "clique_counts = defaultdict(int)\n",
        "\n",
        "for i in range(num_iterations):\n",
        "  # Types U_1, ..., U_n\n",
        "  U = np.random.uniform(low=0, high=1, size=n)\n",
        "\n",
        "  prob_matrix = np.array(\n",
        "      [np.array([W(U[i], U[j]) for j in range(n)]) for i in range(n)]\n",
        "  )\n",
        "\n",
        "  # Populate lower diagonal entries of adjacency matrix according to edge probabilties\n",
        "  adj = np.zeros((n, n))\n",
        "  for i in range(n):\n",
        "    for j in range(i):\n",
        "      adj[i, j] = np.random.binomial(1, prob_matrix[i, j])\n",
        "\n",
        "  # Make adjacency matrix symmetric\n",
        "  adj = np.tril(adj) + np.tril(adj, 1).T\n",
        "\n",
        "  G = nx.from_numpy_matrix(adj)\n",
        "  \n",
        "  num_r_cliques = len([clique for clique in nx.find_cliques(G) if len(clique) == r])\n",
        "\n",
        "  clique_counts[num_r_cliques] += 1\n",
        "\n",
        "\n",
        "# Compute frequencies\n",
        "clique_frequencies = np.array(list(clique_counts.values())) / num_iterations\n",
        "\n",
        "\n",
        "plt.bar(list(clique_counts.keys()), clique_frequencies, color='g')\n",
        "plt.xlabel(\"No. of $r$-cliques\")\n",
        "plt.ylabel(\"Frequency\")\n",
        "plt.title(\"Distribution of No. of $r$-cliques for Stochastic Block Model\")\n",
        "plt.show()\n",
        "\n",
        "# Plot the distribution of \n",
        "# using Kernel Density Estimation\n",
        "# sns.set_style('whitegrid')\n",
        "# ax = sns.kdeplot(clique_counts.values(), bw=0.5)"
      ],
      "metadata": {
        "colab": {
          "base_uri": "https://localhost:8080/",
          "height": 300
        },
        "id": "XSQmZ4dokvPt",
        "outputId": "d683b67f-83cc-4d2a-c7eb-f748a78928bf"
      },
      "execution_count": null,
      "outputs": [
        {
          "output_type": "display_data",
          "data": {
            "text/plain": [
              "<Figure size 432x288 with 1 Axes>"
            ],
            "image/png": "[encoded data removed]"
          },
          "metadata": {}
        }
      ]
    },
    {
      "cell_type": "code",
      "source": [
        ""
      ],
      "metadata": {
        "id": "PPrukAHBk_CL"
      },
      "execution_count": null,
      "outputs": []
    }
  ]
}